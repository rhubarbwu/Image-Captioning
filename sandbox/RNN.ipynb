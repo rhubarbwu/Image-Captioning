{
 "cells": [
  {
   "cell_type": "code",
   "execution_count": 13,
   "metadata": {},
   "outputs": [],
   "source": [
    "from pycocotools.coco import COCO\n",
    "\n",
    "import torch\n",
    "import torch.nn as nn\n",
    "\n",
    "import torchvision.models as models\n",
    "\n",
    "import numpy as np"
   ]
  },
  {
   "cell_type": "code",
   "execution_count": 9,
   "metadata": {},
   "outputs": [],
   "source": [
    "device = torch.device(\"cuda\" if torch.cuda.is_available() else \"cpu\")"
   ]
  },
  {
   "cell_type": "code",
   "execution_count": 17,
   "metadata": {},
   "outputs": [],
   "source": [
    "class Encoder(nn.Module):\n",
    "    \n",
    "    def __init__(self, vocab_size, hidden_size):\n",
    "        super(Encoder, self).__init__()\n",
    "        \n",
    "        self.vocab_size = vocab_size\n",
    "        self.hidden_size = hidden_size\n",
    "        \n",
    "        resnet = models.resnet101(pretrained=True)\n",
    "        \n",
    "        for params in resnet.parameters(): # will not be fine-tuning resnet\n",
    "            params.requires_grad = False\n",
    "        \n",
    "        self.resnet = nn.Sequential(*list(resnet.children()[:-1])) # will not be using last layer of resnet since that layer outputs a 1000-D vector for imagenet classification\n",
    "        self.embedding = nn.Linear(2048, hidden_size) # add a linear layer to get a feature vector to pass into the decoder\n",
    "        \n",
    "    def forward(self, inputs):\n",
    "        output = self.resnet(inputs)\n",
    "        output = self.embedding(outputs)\n",
    "        return output"
   ]
  },
  {
   "cell_type": "code",
   "execution_count": 18,
   "metadata": {},
   "outputs": [],
   "source": [
    "class Decoder(nn.Module):\n",
    "    \n",
    "    def __init__(self, vocab_size, hidden_size):\n",
    "        super(Decoder, self).__init__()\n",
    "        \n",
    "        self.vocab_size = vocab_size\n",
    "        self.hidden_size = hidden_size\n",
    "        \n",
    "        self.embedding = nn.Embedding(num_embeddings=vocab_size, embedding_dim=hidden_size)\n",
    "        self.rnn = nn.LSTM(input_size=hidden_size, hidden_size=hidden_size, batch_first=True) # word embeddings will be size hidden_size, hidden states will be size hidden_size, and batch_first=True since we want input dimensions (batch, seq, hidden)\n",
    "        self.out = nn.Linear(in_features=hidden_size, out_features=vocab_size)\n",
    "    \n",
    "    def forward(self, inputs, encoder_out):\n",
    "        \"\"\"\n",
    "        inputs: (batch, seq_len) set of captions, each entry is an integer index into the vocabulary\n",
    "        encoder_out: (hidden_size,) vector of CNN encoder output\n",
    "        \"\"\"\n",
    "        output = self.embedding(inputs)\n",
    "        output = self.rnn(output, (encoder_out, encoder_out))\n",
    "        output = self.out(output)\n",
    "        return output"
   ]
  },
  {
   "cell_type": "code",
   "execution_count": null,
   "metadata": {},
   "outputs": [],
   "source": []
  }
 ],
 "metadata": {
  "kernelspec": {
   "display_name": "Python 3",
   "language": "python",
   "name": "python3"
  },
  "language_info": {
   "codemirror_mode": {
    "name": "ipython",
    "version": 3
   },
   "file_extension": ".py",
   "mimetype": "text/x-python",
   "name": "python",
   "nbconvert_exporter": "python",
   "pygments_lexer": "ipython3",
   "version": "3.8.3"
  }
 },
 "nbformat": 4,
 "nbformat_minor": 4
}
